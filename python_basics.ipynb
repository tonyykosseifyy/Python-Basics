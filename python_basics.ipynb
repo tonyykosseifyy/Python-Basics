{
 "cells": [
  {
   "cell_type": "markdown",
   "metadata": {},
   "source": [
    "# Python Basics "
   ]
  },
  {
   "cell_type": "markdown",
   "metadata": {},
   "source": [
    "#### Print statement"
   ]
  },
  {
   "cell_type": "code",
   "execution_count": 7,
   "metadata": {},
   "outputs": [
    {
     "name": "stdout",
     "output_type": "stream",
     "text": [
      "Hello world\n"
     ]
    }
   ],
   "source": [
    "print(\"Hello world\")"
   ]
  },
  {
   "cell_type": "markdown",
   "metadata": {},
   "source": [
    "- Elements separated by commas print with a space between them"
   ]
  },
  {
   "cell_type": "code",
   "execution_count": 8,
   "metadata": {},
   "outputs": [
    {
     "name": "stdout",
     "output_type": "stream",
     "text": [
      "Hello There\n"
     ]
    }
   ],
   "source": [
    "print(\"Hello\", \"There\")"
   ]
  },
  {
   "cell_type": "markdown",
   "metadata": {},
   "source": [
    "- This tells Python to use an empty string as the terminator for the line, instead of the default newline character, \\n."
   ]
  },
  {
   "cell_type": "code",
   "execution_count": 15,
   "metadata": {},
   "outputs": [
    {
     "name": "stdout",
     "output_type": "stream",
     "text": [
      "hello There\n"
     ]
    }
   ],
   "source": [
    "print(\"hello \", end='')\n",
    "print(\"There\")\n"
   ]
  },
  {
   "cell_type": "markdown",
   "metadata": {},
   "source": [
    "- The ‘#’ starts a line comment"
   ]
  },
  {
   "cell_type": "code",
   "execution_count": 16,
   "metadata": {},
   "outputs": [],
   "source": [
    "# this is a line comment"
   ]
  },
  {
   "cell_type": "markdown",
   "metadata": {},
   "source": [
    "# Variables"
   ]
  },
  {
   "cell_type": "code",
   "execution_count": 17,
   "metadata": {},
   "outputs": [
    {
     "name": "stdout",
     "output_type": "stream",
     "text": [
      "<class 'int'>\n",
      "<class 'str'>\n",
      "<class 'list'>\n"
     ]
    }
   ],
   "source": [
    "x = 42  # Here, x is a reference to an integer object with a value of 42\n",
    "print(type(x))  # This will output: <class 'int'>\n",
    "\n",
    "x = \"Hello, World!\"  # Now, x is a reference to a string object\n",
    "print(type(x))  # This will output: <class 'str'>\n",
    "\n",
    "x = [1, 2, 3]  # Now, x points to a list object\n",
    "print(type(x))  # This will output: <class 'list'>\n"
   ]
  },
  {
   "cell_type": "markdown",
   "metadata": {},
   "source": [
    "# Basic Data Types\n",
    "\n",
    "+ Integer: the equivalent of a C long\n",
    "+ Float: number with decimals\n",
    "+ Complex: combination of real and imaginary parts, ex: 5 + 2j \n",
    "+ String: a sequence of alphanumerical characters \n",
    "+ Booleans: True or False"
   ]
  },
  {
   "cell_type": "markdown",
   "metadata": {},
   "source": [
    "# String Literals\n",
    "\n",
    "- len(str) -> num of characters in `str`\n",
    "- str(Object) -> string representation of the `Object` "
   ]
  },
  {
   "cell_type": "code",
   "execution_count": 19,
   "metadata": {},
   "outputs": [
    {
     "name": "stdout",
     "output_type": "stream",
     "text": [
      "Hello There\n",
      "11\n",
      "10.3\n"
     ]
    }
   ],
   "source": [
    "x = 'Hello '\n",
    "x = x + 'There'\n",
    "\n",
    "print(x)\n",
    "print(len(x))\n",
    "\n",
    "x = 10.3 \n",
    "print(str(x))\n"
   ]
  },
  {
   "cell_type": "markdown",
   "metadata": {},
   "source": [
    "- Positive index: count from the left, starting with 0\n",
    "- Negative index: count from right, starting with –1"
   ]
  },
  {
   "cell_type": "code",
   "execution_count": 20,
   "metadata": {},
   "outputs": [
    {
     "name": "stdout",
     "output_type": "stream",
     "text": [
      "3\n",
      "123\n",
      "2345\n",
      "0123\n",
      "4\n"
     ]
    }
   ],
   "source": [
    "s = '012345'\n",
    "\n",
    "print(s[3])\n",
    "print(s[1:4])\n",
    "print(s[2:])\n",
    "print(s[:4])\n",
    "print(s[-2])\n"
   ]
  }
 ],
 "metadata": {
  "kernelspec": {
   "display_name": "Python 3",
   "language": "python",
   "name": "python3"
  },
  "language_info": {
   "codemirror_mode": {
    "name": "ipython",
    "version": 3
   },
   "file_extension": ".py",
   "mimetype": "text/x-python",
   "name": "python",
   "nbconvert_exporter": "python",
   "pygments_lexer": "ipython3",
   "version": "3.12.1"
  }
 },
 "nbformat": 4,
 "nbformat_minor": 2
}
