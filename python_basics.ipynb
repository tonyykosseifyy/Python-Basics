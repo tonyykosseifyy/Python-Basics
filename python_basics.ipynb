{
 "cells": [
  {
   "cell_type": "markdown",
   "metadata": {},
   "source": [
    "# Python Basics "
   ]
  },
  {
   "cell_type": "markdown",
   "metadata": {},
   "source": [
    "### Print statement"
   ]
  },
  {
   "cell_type": "code",
   "execution_count": 7,
   "metadata": {},
   "outputs": [
    {
     "name": "stdout",
     "output_type": "stream",
     "text": [
      "Hello world\n"
     ]
    }
   ],
   "source": [
    "print(\"Hello world\")"
   ]
  },
  {
   "cell_type": "markdown",
   "metadata": {},
   "source": [
    "Elements separated by commas print with a space between them"
   ]
  },
  {
   "cell_type": "code",
   "execution_count": 8,
   "metadata": {},
   "outputs": [
    {
     "name": "stdout",
     "output_type": "stream",
     "text": [
      "Hello There\n"
     ]
    }
   ],
   "source": [
    "print(\"Hello\", \"There\")"
   ]
  },
  {
   "cell_type": "markdown",
   "metadata": {},
   "source": [
    "This tells Python to use an empty string as the terminator for the line, instead of the default newline character, \\n."
   ]
  },
  {
   "cell_type": "code",
   "execution_count": 15,
   "metadata": {},
   "outputs": [
    {
     "name": "stdout",
     "output_type": "stream",
     "text": [
      "hello There\n"
     ]
    }
   ],
   "source": [
    "print(\"hello \", end='')\n",
    "print(\"There\")\n"
   ]
  },
  {
   "cell_type": "markdown",
   "metadata": {},
   "source": [
    "The ‘#’ starts a line comment"
   ]
  },
  {
   "cell_type": "code",
   "execution_count": 16,
   "metadata": {},
   "outputs": [],
   "source": [
    "# this is a line comment"
   ]
  },
  {
   "cell_type": "markdown",
   "metadata": {},
   "source": [
    "### Variables"
   ]
  },
  {
   "cell_type": "code",
   "execution_count": 17,
   "metadata": {},
   "outputs": [
    {
     "name": "stdout",
     "output_type": "stream",
     "text": [
      "<class 'int'>\n",
      "<class 'str'>\n",
      "<class 'list'>\n"
     ]
    }
   ],
   "source": [
    "x = 42  # Here, x is a reference to an integer object with a value of 42\n",
    "print(type(x))  # This will output: <class 'int'>\n",
    "\n",
    "x = \"Hello, World!\"  # Now, x is a reference to a string object\n",
    "print(type(x))  # This will output: <class 'str'>\n",
    "\n",
    "x = [1, 2, 3]  # Now, x points to a list object\n",
    "print(type(x))  # This will output: <class 'list'>\n"
   ]
  },
  {
   "cell_type": "markdown",
   "metadata": {},
   "source": [
    "### Basic Data Types\n",
    "\n",
    "+ Integer: the equivalent of a C long\n",
    "+ Float: number with decimals\n",
    "+ Complex: combination of real and imaginary parts, ex: 5 + 2j \n",
    "+ String: a sequence of alphanumerical characters \n",
    "+ Booleans: True or False"
   ]
  },
  {
   "cell_type": "markdown",
   "metadata": {},
   "source": [
    "### String Literals\n",
    "\n",
    "len(str) -> num of characters in `str`\n",
    "str(Object) -> string representation of the `Object` "
   ]
  },
  {
   "cell_type": "code",
   "execution_count": 19,
   "metadata": {},
   "outputs": [
    {
     "name": "stdout",
     "output_type": "stream",
     "text": [
      "Hello There\n",
      "11\n",
      "10.3\n"
     ]
    }
   ],
   "source": [
    "x = 'Hello '\n",
    "x = x + 'There'\n",
    "\n",
    "print(x)\n",
    "print(len(x))\n",
    "\n",
    "x = 10.3 \n",
    "print(str(x))\n"
   ]
  },
  {
   "cell_type": "markdown",
   "metadata": {},
   "source": [
    "Positive index: count from the left, starting with 0\n",
    "Negative index: count from right, starting with –1"
   ]
  },
  {
   "cell_type": "code",
   "execution_count": 20,
   "metadata": {},
   "outputs": [
    {
     "name": "stdout",
     "output_type": "stream",
     "text": [
      "3\n",
      "123\n",
      "2345\n",
      "0123\n",
      "4\n"
     ]
    }
   ],
   "source": [
    "s = '012345'\n",
    "\n",
    "print(s[3])\n",
    "print(s[1:4])\n",
    "print(s[2:])\n",
    "print(s[:4])\n",
    "print(s[-2])\n"
   ]
  },
  {
   "cell_type": "markdown",
   "metadata": {},
   "source": [
    "### Data Structures - Lists\n",
    "- Ordered collection of data\n",
    "- Data can be of different types \n",
    "- Same subset operations as Strings"
   ]
  },
  {
   "cell_type": "code",
   "execution_count": 21,
   "metadata": {},
   "outputs": [
    {
     "name": "stdout",
     "output_type": "stream",
     "text": [
      "[1, 'Hello', (3+2j)]\n",
      "(3+2j)\n",
      "[1, 'Hello']\n"
     ]
    }
   ],
   "source": [
    "x = [1, 'Hello', (3 + 2j)]\n",
    "print(x)\n",
    "\n",
    "print(x[2])\n",
    "print(x[0:2])\n"
   ]
  },
  {
   "cell_type": "code",
   "execution_count": 22,
   "metadata": {},
   "outputs": [
    {
     "name": "stdout",
     "output_type": "stream",
     "text": [
      "[1, 2, 3]\n",
      "[1, 2, 3]\n",
      "[100, 2, 3]\n",
      "[100, 2, 3]\n",
      "[100, 2, 3, 12]\n",
      "[100, 2, 3, 12]\n"
     ]
    }
   ],
   "source": [
    "x = [1,2,3]\n",
    "y = x\n",
    "\n",
    "print(x)\n",
    "print(y)\n",
    "\n",
    "x[0] = 100\n",
    "print(x)\n",
    "print(y)\n",
    "\n",
    "x.append(12)\n",
    "print(x)\n",
    "print(y)\n"
   ]
  },
  {
   "cell_type": "markdown",
   "metadata": {},
   "source": [
    "Since x and y point to the same list object, both are changed\n",
    "The method append also modifies the list by adding a new element in the end of the list"
   ]
  },
  {
   "cell_type": "markdown",
   "metadata": {},
   "source": [
    "### Data Structures - Tuples\n",
    "\n",
    "Tuples are immutable versions of lists\n",
    "\n",
    "One strange point is the format to make a tuple with one element: ‘,’ is needed to differentiate from the mathematical expression (2)\n"
   ]
  },
  {
   "cell_type": "code",
   "execution_count": 34,
   "metadata": {},
   "outputs": [
    {
     "name": "stdout",
     "output_type": "stream",
     "text": [
      "1\n",
      "(2, 3)\n",
      "(2,)\n"
     ]
    }
   ],
   "source": [
    "x = (1,2,3)\n",
    "\n",
    "print(x[0])\n",
    "# x[0] this would cause an error\n",
    "\n",
    "print(x[1:])\n",
    "\n",
    "y = (2,)\n",
    "print(y)"
   ]
  },
  {
   "cell_type": "markdown",
   "metadata": {},
   "source": [
    "### Data Structures - Dictionaries\n",
    "\n",
    "A set of key-value pairs\n",
    "Entries can be changed by assigning\n",
    "to that entry\n",
    "Assigning to a key that does not exist adds an entry\n",
    "The `del` method deletes an element from a dictionary"
   ]
  },
  {
   "cell_type": "code",
   "execution_count": 39,
   "metadata": {},
   "outputs": [
    {
     "name": "stdout",
     "output_type": "stream",
     "text": [
      "{1: 'Hello', 'two': 42, 'blah': [1, 2, 3]}\n",
      "[1, 2, 3]\n",
      "{1: 'Hello', 'two': 105, 'blah': [1, 2, 3]}\n",
      "{1: 'Hello', 'two': 105, 'blah': [1, 2, 3], 'new entry': 'new'}\n",
      "[1, 100, 3]\n",
      "{1: 'Hello', 'blah': [1, 100, 3], 'new entry': 'new'}\n"
     ]
    }
   ],
   "source": [
    "d = {\n",
    "    1: 'Hello',\n",
    "    'two': 42,\n",
    "    'blah': [1,2,3]\n",
    "}\n",
    "print(d)\n",
    "\n",
    "print(d['blah'])\n",
    "\n",
    "d['two'] = 105\n",
    "print(d)\n",
    "\n",
    "d['new entry'] = 'new'\n",
    "print(d)\n",
    "\n",
    "y = d['blah']\n",
    "d['blah'][1] = 100\n",
    "print(y)\n",
    "\n",
    "del(d['two'])\n",
    "print(d)\n",
    "\n",
    "\n"
   ]
  },
  {
   "cell_type": "markdown",
   "metadata": {},
   "source": [
    "### Copying Dictionaries and Lists\n",
    "\n",
    "The built-in `list` function will copy a list\n",
    "The dictionary has a method called `copy`"
   ]
  },
  {
   "cell_type": "code",
   "execution_count": 40,
   "metadata": {},
   "outputs": [
    {
     "name": "stdout",
     "output_type": "stream",
     "text": [
      "[100]\n",
      "[1]\n",
      "{1: 100}\n",
      "{1: 10}\n"
     ]
    }
   ],
   "source": [
    "# copying a list\n",
    "list1 = [1]\n",
    "\n",
    "list2 = list(list1)\n",
    "list1[0] = 100\n",
    "\n",
    "print(list1)\n",
    "print(list2)\n",
    "\n",
    "# copying a dictionary \n",
    "\n",
    "d = {1: 10}\n",
    "d2 = d.copy()\n",
    "\n",
    "d[1] = 100\n",
    "\n",
    "print(d)\n",
    "print(d2)\n",
    "\n"
   ]
  },
  {
   "cell_type": "markdown",
   "metadata": {},
   "source": [
    "# Control Structures: Input\n",
    "\n",
    "The `input(string)` method returns a line of user input as a string"
   ]
  },
  {
   "cell_type": "code",
   "execution_count": 48,
   "metadata": {},
   "outputs": [
    {
     "name": "stdout",
     "output_type": "stream",
     "text": [
      "What is your name\n",
      "what's your age\n",
      "Hello tony you are 19 years old\n",
      "age: 19\n"
     ]
    }
   ],
   "source": [
    "print(\"What is your name\")\n",
    "name = input(\"=> \")\n",
    "\n",
    "print(\"what's your age\")\n",
    "age = int(input(\"=> \"))\n",
    "\n",
    "print(\"Hello\", name, \"you are\", age, \"years old\")\n",
    "print(\"age: \" + str(age))\n"
   ]
  },
  {
   "cell_type": "markdown",
   "metadata": {},
   "source": [
    "### Control Structures - No Braces\n",
    "\n",
    "Python uses `indentation` instead of braces to determine the scope of expressions\n",
    "\n",
    "All lines must be indented the same amount to be part of the scope (or indented more if part of an inner scope)\n",
    "\n",
    "This forces the programmer to use proper indentation since the indenting is part of the program!\n"
   ]
  },
  {
   "cell_type": "markdown",
   "metadata": {},
   "source": [
    "### Control Structures - If"
   ]
  },
  {
   "cell_type": "code",
   "execution_count": 50,
   "metadata": {},
   "outputs": [
    {
     "name": "stdout",
     "output_type": "stream",
     "text": [
      "60\n",
      "y =  -0.3048106211022167\n"
     ]
    }
   ],
   "source": [
    "import math \n",
    "\n",
    "x = 30 \n",
    "if x <= 15: \n",
    "    y = x + 15\n",
    "elif x <= 30: \n",
    "    y = x + 30\n",
    "else: \n",
    "    y = x\n",
    "\n",
    "print(y)\n",
    "print('y = ', math.sin(y))\n"
   ]
  },
  {
   "cell_type": "markdown",
   "metadata": {},
   "source": [
    "### Control Structures - While Loop"
   ]
  },
  {
   "cell_type": "code",
   "execution_count": 52,
   "metadata": {},
   "outputs": [
    {
     "name": "stdout",
     "output_type": "stream",
     "text": [
      "1 2 3 4 5 6 7 8 9 "
     ]
    }
   ],
   "source": [
    "x = 1 \n",
    "\n",
    "while x < 10: \n",
    "    print(x, end=\" \")\n",
    "    x+=1 \n"
   ]
  },
  {
   "cell_type": "markdown",
   "metadata": {},
   "source": [
    "### Control Structures - Loop Control\n",
    "\n",
    "\n",
    "The optional `else` clause runs only if the loop exits normally (not by break)"
   ]
  },
  {
   "cell_type": "code",
   "execution_count": 53,
   "metadata": {},
   "outputs": [
    {
     "name": "stdout",
     "output_type": "stream",
     "text": [
      "1 2 Hello\n"
     ]
    }
   ],
   "source": [
    "x = 1\n",
    "\n",
    "while x < 3: \n",
    "    print(x, end=\" \")\n",
    "    x+=1 \n",
    "else: \n",
    "    print(\"Hello\")\n"
   ]
  },
  {
   "cell_type": "markdown",
   "metadata": {},
   "source": [
    "### Control Structures - For Loop\n",
    "\n",
    "Iterating through a list of values:"
   ]
  },
  {
   "cell_type": "code",
   "execution_count": 55,
   "metadata": {},
   "outputs": [
    {
     "name": "stdout",
     "output_type": "stream",
     "text": [
      "1 2 3 4 5 \n",
      "0 1 2 3 4 "
     ]
    }
   ],
   "source": [
    "for x in [1,2,3,4,5]:\n",
    "    print(x, end=\" \")\n",
    "print()\n",
    "for x in range(5):\n",
    "    print(x, end=\" \")\n"
   ]
  },
  {
   "cell_type": "code",
   "execution_count": null,
   "metadata": {},
   "outputs": [],
   "source": []
  }
 ],
 "metadata": {
  "kernelspec": {
   "display_name": "Python 3",
   "language": "python",
   "name": "python3"
  },
  "language_info": {
   "codemirror_mode": {
    "name": "ipython",
    "version": 3
   },
   "file_extension": ".py",
   "mimetype": "text/x-python",
   "name": "python",
   "nbconvert_exporter": "python",
   "pygments_lexer": "ipython3",
   "version": "3.12.1"
  }
 },
 "nbformat": 4,
 "nbformat_minor": 2
}
